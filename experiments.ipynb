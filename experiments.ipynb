{
 "cells": [
  {
   "cell_type": "code",
   "execution_count": 22,
   "metadata": {},
   "outputs": [],
   "source": [
    "import pandas as pd, numpy as np\n",
    "import matplotlib.pyplot as plt"
   ]
  },
  {
   "cell_type": "code",
   "execution_count": 23,
   "metadata": {},
   "outputs": [],
   "source": [
    "Transaction_Info=pd.read_csv(\"C://Users/denis/OneDrive/Desktop/DS Task/data-new/transactions_obf.csv\")\n",
    "Reported_Frauds=pd.read_csv(\"C://Users/denis/OneDrive/Desktop/DS Task/data-new/labels_obf.csv\")"
   ]
  },
  {
   "cell_type": "code",
   "execution_count": null,
   "metadata": {},
   "outputs": [],
   "source": []
  },
  {
   "cell_type": "code",
   "execution_count": 24,
   "metadata": {},
   "outputs": [],
   "source": [
    "for i in Reported_Frauds.eventId:\n",
    "    if i in list(Transaction_Info.eventId):\n",
    "        Transaction_Info.loc[Transaction_Info.eventId==i,'fraudLabel']=1\n",
    "\n",
    "Transaction_Info.loc[Transaction_Info.fraudLabel!=1,'fraudLabel']=-1"
   ]
  },
  {
   "cell_type": "code",
   "execution_count": 28,
   "metadata": {},
   "outputs": [
    {
     "data": {
      "text/html": [
       "<div>\n",
       "<style scoped>\n",
       "    .dataframe tbody tr th:only-of-type {\n",
       "        vertical-align: middle;\n",
       "    }\n",
       "\n",
       "    .dataframe tbody tr th {\n",
       "        vertical-align: top;\n",
       "    }\n",
       "\n",
       "    .dataframe thead th {\n",
       "        text-align: right;\n",
       "    }\n",
       "</style>\n",
       "<table border=\"1\" class=\"dataframe\">\n",
       "  <thead>\n",
       "    <tr style=\"text-align: right;\">\n",
       "      <th></th>\n",
       "      <th>transactionTime</th>\n",
       "      <th>eventId</th>\n",
       "      <th>transactionAmount</th>\n",
       "    </tr>\n",
       "  </thead>\n",
       "  <tbody>\n",
       "    <tr>\n",
       "      <th>116997</th>\n",
       "      <td>2018-01-26T07:28:44Z</td>\n",
       "      <td>103791735A1</td>\n",
       "      <td>-0.15</td>\n",
       "    </tr>\n",
       "    <tr>\n",
       "      <th>39618</th>\n",
       "      <td>2017-05-13T00:06:32Z</td>\n",
       "      <td>19836588A1</td>\n",
       "      <td>-0.14</td>\n",
       "    </tr>\n",
       "    <tr>\n",
       "      <th>75376</th>\n",
       "      <td>2017-09-02T13:42:14Z</td>\n",
       "      <td>69707765A1</td>\n",
       "      <td>-0.13</td>\n",
       "    </tr>\n",
       "    <tr>\n",
       "      <th>90334</th>\n",
       "      <td>2017-10-23T08:24:02Z</td>\n",
       "      <td>47545619A1</td>\n",
       "      <td>-0.12</td>\n",
       "    </tr>\n",
       "    <tr>\n",
       "      <th>36285</th>\n",
       "      <td>2017-05-02T01:23:04Z</td>\n",
       "      <td>103799127A1</td>\n",
       "      <td>-0.12</td>\n",
       "    </tr>\n",
       "    <tr>\n",
       "      <th>...</th>\n",
       "      <td>...</td>\n",
       "      <td>...</td>\n",
       "      <td>...</td>\n",
       "    </tr>\n",
       "    <tr>\n",
       "      <th>44053</th>\n",
       "      <td>2017-05-27T17:08:12Z</td>\n",
       "      <td>46651155A1</td>\n",
       "      <td>0.00</td>\n",
       "    </tr>\n",
       "    <tr>\n",
       "      <th>44048</th>\n",
       "      <td>2017-05-27T17:34:01Z</td>\n",
       "      <td>47560883A1</td>\n",
       "      <td>0.00</td>\n",
       "    </tr>\n",
       "    <tr>\n",
       "      <th>44045</th>\n",
       "      <td>2017-05-27T18:09:44Z</td>\n",
       "      <td>69981461A1</td>\n",
       "      <td>0.00</td>\n",
       "    </tr>\n",
       "    <tr>\n",
       "      <th>43731</th>\n",
       "      <td>2017-05-26T20:00:34Z</td>\n",
       "      <td>36655162A1</td>\n",
       "      <td>0.00</td>\n",
       "    </tr>\n",
       "    <tr>\n",
       "      <th>118579</th>\n",
       "      <td>2018-01-30T21:08:31Z</td>\n",
       "      <td>39516240A1</td>\n",
       "      <td>0.00</td>\n",
       "    </tr>\n",
       "  </tbody>\n",
       "</table>\n",
       "<p>1912 rows × 3 columns</p>\n",
       "</div>"
      ],
      "text/plain": [
       "             transactionTime      eventId  transactionAmount\n",
       "116997  2018-01-26T07:28:44Z  103791735A1              -0.15\n",
       "39618   2017-05-13T00:06:32Z   19836588A1              -0.14\n",
       "75376   2017-09-02T13:42:14Z   69707765A1              -0.13\n",
       "90334   2017-10-23T08:24:02Z   47545619A1              -0.12\n",
       "36285   2017-05-02T01:23:04Z  103799127A1              -0.12\n",
       "...                      ...          ...                ...\n",
       "44053   2017-05-27T17:08:12Z   46651155A1               0.00\n",
       "44048   2017-05-27T17:34:01Z   47560883A1               0.00\n",
       "44045   2017-05-27T18:09:44Z   69981461A1               0.00\n",
       "43731   2017-05-26T20:00:34Z   36655162A1               0.00\n",
       "118579  2018-01-30T21:08:31Z   39516240A1               0.00\n",
       "\n",
       "[1912 rows x 3 columns]"
      ]
     },
     "execution_count": 28,
     "metadata": {},
     "output_type": "execute_result"
    }
   ],
   "source": [
    "Transaction_Info[Transaction_Info.transactionAmount<=0][['transactionTime','eventId','transactionAmount']].sort_values(by='transactionAmount')"
   ]
  },
  {
   "cell_type": "code",
   "execution_count": 16,
   "metadata": {},
   "outputs": [
    {
     "data": {
      "text/plain": [
       "117746"
      ]
     },
     "execution_count": 16,
     "metadata": {},
     "output_type": "execute_result"
    }
   ],
   "source": [
    "len(Transaction_Info[Transaction_Info.fraudLabel==-1])"
   ]
  },
  {
   "cell_type": "code",
   "execution_count": 20,
   "metadata": {},
   "outputs": [
    {
     "name": "stderr",
     "output_type": "stream",
     "text": [
      "C:\\Users\\denis\\AppData\\Local\\Temp\\ipykernel_9308\\2874334577.py:2: UserWarning: Boolean Series key will be reindexed to match DataFrame index.\n",
      "  len(Transaction_Info[Transaction_Info.fraudLabel==1][Transaction_Info.merchantZip.isnull()])\n"
     ]
    },
    {
     "data": {
      "text/plain": [
       "561"
      ]
     },
     "execution_count": 20,
     "metadata": {},
     "output_type": "execute_result"
    }
   ],
   "source": [
    "# len(Transaction_Info[Transaction_Info.posEntryMode==79])\n",
    "# len(Transaction_Info[Transaction_Info.fraudLabel==1][Transaction_Info.merchantZip.isnull()])\n",
    "# len(Transaction_Info[Transaction_Info.merchantZip==\"...\"])\n"
   ]
  },
  {
   "cell_type": "code",
   "execution_count": null,
   "metadata": {},
   "outputs": [],
   "source": []
  }
 ],
 "metadata": {
  "kernelspec": {
   "display_name": "Python 3.9.13 64-bit (microsoft store)",
   "language": "python",
   "name": "python3"
  },
  "language_info": {
   "codemirror_mode": {
    "name": "ipython",
    "version": 3
   },
   "file_extension": ".py",
   "mimetype": "text/x-python",
   "name": "python",
   "nbconvert_exporter": "python",
   "pygments_lexer": "ipython3",
   "version": "3.9.13 (tags/v3.9.13:6de2ca5, May 17 2022, 16:36:42) [MSC v.1929 64 bit (AMD64)]"
  },
  "orig_nbformat": 4,
  "vscode": {
   "interpreter": {
    "hash": "49a102da4b5105263402ebcb8052cded23fbfdf691953dc1ee8c4f9cf48b6d97"
   }
  }
 },
 "nbformat": 4,
 "nbformat_minor": 2
}
